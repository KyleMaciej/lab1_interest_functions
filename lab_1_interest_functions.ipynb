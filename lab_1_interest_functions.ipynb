{
  "nbformat": 4,
  "nbformat_minor": 0,
  "metadata": {
    "kernelspec": {
      "display_name": "Python 3",
      "language": "python",
      "name": "python3"
    },
    "language_info": {
      "codemirror_mode": {
        "name": "ipython",
        "version": 3
      },
      "file_extension": ".py",
      "mimetype": "text/x-python",
      "name": "python",
      "nbconvert_exporter": "python",
      "pygments_lexer": "ipython3",
      "version": "3.7.2"
    },
    "colab": {
      "name": "lab_1_interest_functions.ipynb",
      "provenance": [],
      "include_colab_link": true
    }
  },
  "cells": [
    {
      "cell_type": "markdown",
      "metadata": {
        "id": "view-in-github",
        "colab_type": "text"
      },
      "source": [
        "<a href=\"https://colab.research.google.com/github/KyleMaciej/lab1_interest_functions/blob/master/lab_1_interest_functions.ipynb\" target=\"_parent\"><img src=\"https://colab.research.google.com/assets/colab-badge.svg\" alt=\"Open In Colab\"/></a>"
      ]
    },
    {
      "cell_type": "markdown",
      "metadata": {
        "id": "ZFQJp9vNuKps",
        "colab_type": "text"
      },
      "source": [
        "## Lab 1 - Compound Interest Functions\n",
        "\n",
        "Below you will find a table of important formulae related to compound interest.  \n",
        "\n",
        "<img src=\"https://www.dummies.com/wp-content/uploads/251689.image0.jpg\" alt=\"image0.jpg\" width=\"400\" height=\"319\">\n",
        "\n",
        "In this lab, you will create functions for each of these using (and documenting) the following workflow.\n",
        "\n",
        "1. Work out the correct answer for a few examples. *Hint* Search for e.g. \"worked out compound interest examples\" on the web.\n",
        "2. Write a `lambda` function and test this function on your test cases.\n",
        "3. Convert the `lambda` function to a `def` statement with an informative doc string that follows the [Google formating rules](https://google.github.io/styleguide/pyguide.html#383-functions-and-methods).\n",
        "4. Write an automated test function (using your previous examples) that will test your `def` statement function each time the code is executed."
      ]
    },
    {
      "cell_type": "markdown",
      "metadata": {
        "id": "96ew5ptGuKpx",
        "colab_type": "text"
      },
      "source": [
        "#### Problem 1 -- Apply the process to create a simple interest functions."
      ]
    },
    {
      "cell_type": "code",
      "metadata": {
        "id": "PjkJ6IxFuKp0",
        "colab_type": "code",
        "colab": {
          "base_uri": "https://localhost:8080/",
          "height": 34
        },
        "outputId": "d12e8aa5-7123-483b-b660-f3bc874b471e"
      },
      "source": [
        "interest = lambda principal, interest_rate, time: principal * interest_rate * time\n",
        "interest(5,.05, 10)"
      ],
      "execution_count": 1,
      "outputs": [
        {
          "output_type": "execute_result",
          "data": {
            "text/plain": [
              "2.5"
            ]
          },
          "metadata": {
            "tags": []
          },
          "execution_count": 1
        }
      ]
    },
    {
      "cell_type": "code",
      "metadata": {
        "id": "OwvaTPcvuv3S",
        "colab_type": "code",
        "colab": {}
      },
      "source": [
        "def interest(principal, interest_rate, time):\n",
        "    \"\"\"Computes simple interest using the principal,\n",
        "       interest_rate, and time\n",
        "\n",
        "       Args: \n",
        "        principal: the amount of money that was borrowed\n",
        "        interest_rate: rate of interest as a decimial\n",
        "        time: the period in time that it needs to get paid back in years\n",
        "\n",
        "       Returns:\n",
        "        the amount of interest on that payment\n",
        "\n",
        "    \"\"\"\n",
        "    output = principal * interest_rate * time\n",
        "    return output\n",
        "\n",
        "def test_interest():\n",
        "    assert interest(5,.05,10) == 2.5\n",
        "    assert interest(15, .10, 5) == 7.5\n",
        "test_interest()"
      ],
      "execution_count": 9,
      "outputs": []
    },
    {
      "cell_type": "markdown",
      "metadata": {
        "id": "obb7Buz_uKqD",
        "colab_type": "text"
      },
      "source": [
        "#### Problem 2 -- Apply the process to create a compound interest functions."
      ]
    },
    {
      "cell_type": "code",
      "metadata": {
        "id": "RhLZ6PLLuKqG",
        "colab_type": "code",
        "colab": {
          "base_uri": "https://localhost:8080/",
          "height": 34
        },
        "outputId": "63d79737-e72d-4c68-e78a-e025e34be1b2"
      },
      "source": [
        "compound_interest = lambda principal, rate, compoundings, years: principal *(1 + years/compoundings)**(rate*compoundings)\n",
        "compound_interest(1500, .05, 12, 10)"
      ],
      "execution_count": 5,
      "outputs": [
        {
          "output_type": "execute_result",
          "data": {
            "text/plain": [
              "2157.923874471031"
            ]
          },
          "metadata": {
            "tags": []
          },
          "execution_count": 5
        }
      ]
    },
    {
      "cell_type": "code",
      "metadata": {
        "id": "JQQK56jnxt-a",
        "colab_type": "code",
        "colab": {}
      },
      "source": [
        "def compound_interest(principal, rate, compoundings, years):\n",
        "    \"\"\"Computes compound interest using the principal, rate,\n",
        "       compoundings, years\n",
        "\n",
        "       Args:\n",
        "        principal: the amount of money that was borrowed\n",
        "        rate: the rate of interest as a decimal\n",
        "        compoundings: the number of times per year accumulated interesed is paid out\n",
        "        years: number of years the interest is to be paid\n",
        "        \n",
        "       Returns:\n",
        "        the compound interest as an amount on that payment\n",
        "      \n",
        "    \"\"\"\n",
        "    output = principal *(1 + years/compoundings)**(rate*compoundings)\n",
        "    return output\n",
        "\n",
        "def test_compound_interest():\n",
        "    assert compound_interest(5,.05,2,5) == 5.667307908353488\n",
        "    assert compound_interest(1500, .05, 12, 10) == 2157.923874471031\n",
        "test_compound_interest()\n",
        "\n",
        "\n"
      ],
      "execution_count": 12,
      "outputs": []
    },
    {
      "cell_type": "markdown",
      "metadata": {
        "id": "-rkxNW3euKqR",
        "colab_type": "text"
      },
      "source": [
        "#### Problem 3 -- Apply the process to create a amortized loan payment function."
      ]
    },
    {
      "cell_type": "code",
      "metadata": {
        "id": "UTaRhzRGuKqT",
        "colab_type": "code",
        "colab": {
          "base_uri": "https://localhost:8080/",
          "height": 34
        },
        "outputId": "b3dc35e0-4de5-477d-ba53-672a8b195bb2"
      },
      "source": [
        "amortized_loan = lambda amount, interest, num_payments: (amount * interest)/(1-(1+interest)**-num_payments)\n",
        "amortized_loan(500, .15, 6)"
      ],
      "execution_count": 15,
      "outputs": [
        {
          "output_type": "execute_result",
          "data": {
            "text/plain": [
              "132.11845328369174"
            ]
          },
          "metadata": {
            "tags": []
          },
          "execution_count": 15
        }
      ]
    },
    {
      "cell_type": "code",
      "metadata": {
        "id": "myf4VLhe1rRr",
        "colab_type": "code",
        "colab": {}
      },
      "source": [
        "def amortized_loan(amount, interest, num_payments):\n",
        "    \"\"\"Calculates the Amortization total amount by using the amount,\n",
        "       interest, num_payments\n",
        "\n",
        "       Args:\n",
        "        amount: the amount borrowed\n",
        "        interest: the interest rate, represented by a decimal\n",
        "        num_payments: the amount of payments\n",
        "\n",
        "       Returns:\n",
        "        the total amount of interest on the loan\n",
        "    \"\"\"\n",
        "    output = (amount * interest)/(1-(1+interest)**-num_payments)\n",
        "    return output\n",
        "     \n",
        "\n",
        "def test_amortized_loan():\n",
        "    assert amortized_loan(1000, .05, 12) == 112.82541002081534\n",
        "    assert amortized_loan(500, .15, 6) == 132.11845328369174\n",
        "test_amortized_loan()\n"
      ],
      "execution_count": 27,
      "outputs": []
    },
    {
      "cell_type": "markdown",
      "metadata": {
        "id": "43PNk5rkuKqc",
        "colab_type": "text"
      },
      "source": [
        "#### Problem 4 -- Apply the process to create a remaining balance function"
      ]
    },
    {
      "cell_type": "code",
      "metadata": {
        "id": "wEKhT80guKqd",
        "colab_type": "code",
        "colab": {
          "base_uri": "https://localhost:8080/",
          "height": 34
        },
        "outputId": "358f096a-9ea0-4aec-d2e3-ec2446b7b794"
      },
      "source": [
        "remanining_balance = lambda reg_payment, interest, num_payment, already_payed: reg_payment * abs((1-(1+interest)**-(num_payment-already_payed))/interest)\n",
        "remanining_balance(600, .05, 6, 4)"
      ],
      "execution_count": 37,
      "outputs": [
        {
          "output_type": "execute_result",
          "data": {
            "text/plain": [
              "1115.6462585034021"
            ]
          },
          "metadata": {
            "tags": []
          },
          "execution_count": 37
        }
      ]
    },
    {
      "cell_type": "code",
      "metadata": {
        "id": "prNaFuP-5mwT",
        "colab_type": "code",
        "colab": {}
      },
      "source": [
        "def remaining_balance(reg_payment, interest, num_payments, already_payed):\n",
        "    \"\"\"Calculates how much you still owe using regular payment,\n",
        "       interest, number of payments left, and number of payments already payed\n",
        "\n",
        "       Args:\n",
        "        reg_payment: how often do you make payments in a year\n",
        "        interest: rate of interest as a decimal\n",
        "        number_payments: the number of payments left\n",
        "        already_payed: the number of payments already made\n",
        "       \n",
        "       Returns:\n",
        "        How much is left to pay\n",
        "    \"\"\"\n",
        "    output = reg_payment * abs((1-(1+interest)**-(num_payments-already_payed))/interest)\n",
        "    return output\n",
        "\n",
        "def test_remaining_balance():\n",
        "    assert remaining_balance(12, .05, 6, 6) == 0\n",
        "    assert remaining_balance(600, .05, 6, 4) == 1115.6462585034021\n",
        "test_remaining_balance()"
      ],
      "execution_count": 43,
      "outputs": []
    }
  ]
}